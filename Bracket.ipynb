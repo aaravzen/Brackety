{
 "cells": [
  {
   "cell_type": "code",
   "execution_count": 1,
   "metadata": {},
   "outputs": [],
   "source": [
    "# Is this convention in jupyter notebooks?\n",
    "# We'll see if it works idk\n",
    "\n",
    "from IPython.display import Image\n",
    "from IPython.display import display, Markdown, clear_output\n",
    "import ipywidgets as widgets\n",
    "import os\n",
    "from os import listdir\n",
    "from os.path import isfile, join, splitext"
   ]
  },
  {
   "cell_type": "code",
   "execution_count": 2,
   "metadata": {},
   "outputs": [],
   "source": [
    "# defining some vars\n",
    "\n",
    "PATH = \"images/\"\n",
    "filenames = [f for f in listdir('images') if isfile(join('images', f))]\n",
    "contestants = [f for f in listdir('images') if isfile(join('images', f))]\n",
    "winners = []\n",
    "polls = []\n",
    "round_winners = contestants"
   ]
  },
  {
   "cell_type": "code",
   "execution_count": 3,
   "metadata": {},
   "outputs": [],
   "source": [
    "# defining some widgets\n",
    "\n",
    "def create_image_widget(filename):\n",
    "    file = open(os.path.join(PATH, filename), \"rb\")\n",
    "    image = file.read()\n",
    "    title,ext = os.path.splitext(filename)\n",
    "    button = widgets.Button(description='This one.')\n",
    "    return widgets.VBox([widgets.Label(value=title),\n",
    "        widgets.Image(value=image, format=ext, width=400),\n",
    "        button])\n",
    "\n",
    "def create_poll_widget(iw1, fn1, iw2, fn2):\n",
    "    output = widgets.Text(value=\"Winner: \")\n",
    "    panel = widgets.VBox([widgets.Text(value=\"Placeholder for poll\"),\n",
    "                  output])\n",
    "\n",
    "    def on_iw1_click(_):\n",
    "        if fn1 in round_winners:\n",
    "            round_winners.remove(fn1)\n",
    "        if fn2 in round_winners:\n",
    "            round_winners.remove(fn2)\n",
    "        round_winners.append(fn1)\n",
    "        output.value = \"Winner: %s\" % fn1\n",
    "    def on_iw2_click(_):\n",
    "        if fn1 in round_winners:\n",
    "            round_winners.remove(fn1)\n",
    "        if fn2 in round_winners:\n",
    "            round_winners.remove(fn2)\n",
    "        round_winners.append(fn2)\n",
    "        output.value = \"Winner: %s\" % fn2\n",
    "    \n",
    "    iw1.children[2].on_click(on_iw1_click)\n",
    "    iw2.children[2].on_click(on_iw2_click)\n",
    "\n",
    "    poll = widgets.HBox([iw1, iw2, panel])\n",
    "    return poll"
   ]
  },
  {
   "cell_type": "code",
   "execution_count": 4,
   "metadata": {},
   "outputs": [
    {
     "data": {
      "application/vnd.jupyter.widget-view+json": {
       "model_id": "0a9c9d9c8b7747d0be0a7eb0517c0f4e",
       "version_major": 2,
       "version_minor": 0
      },
      "text/plain": [
       "HBox(children=(VBox(children=(Label(value='alena-aenami-7p-m-1k'), Image(value=b'\\xff\\xd8\\xff\\xe0\\x00\\x10JFIF\\…"
      ]
     },
     "metadata": {},
     "output_type": "display_data"
    },
    {
     "data": {
      "application/vnd.jupyter.widget-view+json": {
       "model_id": "a01c52a1802a4852ab6e557bd9cc2586",
       "version_major": 2,
       "version_minor": 0
      },
      "text/plain": [
       "HBox(children=(VBox(children=(Label(value='alena-aenami-close-to-the-sun-1920'), Image(value=b'\\xff\\xd8\\xff\\xe…"
      ]
     },
     "metadata": {},
     "output_type": "display_data"
    },
    {
     "data": {
      "application/vnd.jupyter.widget-view+json": {
       "model_id": "623cebed15a64f3185f94d73df3ac7e3",
       "version_major": 2,
       "version_minor": 0
      },
      "text/plain": [
       "HBox(children=(VBox(children=(Label(value='alena-aenami-couple1k'), Image(value=b'\\xff\\xd8\\xff\\xe0\\x00\\x10JFIF…"
      ]
     },
     "metadata": {},
     "output_type": "display_data"
    },
    {
     "data": {
      "application/vnd.jupyter.widget-view+json": {
       "model_id": "8e7355179bbe4c10a03c0820b292f274",
       "version_major": 2,
       "version_minor": 0
      },
      "text/plain": [
       "HBox(children=(VBox(children=(Label(value='alena-aenami-grave31'), Image(value=b'\\xff\\xd8\\xff\\xe0\\x00\\x10JFIF\\…"
      ]
     },
     "metadata": {},
     "output_type": "display_data"
    },
    {
     "data": {
      "application/vnd.jupyter.widget-view+json": {
       "model_id": "9bd267ddba68453cb13458b90eb97c80",
       "version_major": 2,
       "version_minor": 0
      },
      "text/plain": [
       "HBox(children=(VBox(children=(Label(value='alena-aenami-lighthouse1k'), Image(value=b'\\xff\\xd8\\xff\\xe0\\x00\\x10…"
      ]
     },
     "metadata": {},
     "output_type": "display_data"
    },
    {
     "data": {
      "application/vnd.jupyter.widget-view+json": {
       "model_id": "2d17183fe4f5465abe82c4871d6557cf",
       "version_major": 2,
       "version_minor": 0
      },
      "text/plain": [
       "HBox(children=(VBox(children=(Label(value='alena-aenami-mountains'), Image(value=b'\\xff\\xd8\\xff\\xe0\\x00\\x10JFI…"
      ]
     },
     "metadata": {},
     "output_type": "display_data"
    },
    {
     "data": {
      "application/vnd.jupyter.widget-view+json": {
       "model_id": "fa775834eda84f17934dbb6e4f219f01",
       "version_major": 2,
       "version_minor": 0
      },
      "text/plain": [
       "HBox(children=(VBox(children=(Label(value='alena-aenami-mountains2k'), Image(value=b'\\xff\\xd8\\xff\\xe0\\x00\\x10J…"
      ]
     },
     "metadata": {},
     "output_type": "display_data"
    },
    {
     "data": {
      "application/vnd.jupyter.widget-view+json": {
       "model_id": "e7fbdb71b37743c18c1a2ca04a02e0fb",
       "version_major": 2,
       "version_minor": 0
      },
      "text/plain": [
       "HBox(children=(VBox(children=(Label(value='alena-aenami-redskyf1920'), Image(value=b'\\xff\\xd8\\xff\\xe0\\x00\\x10J…"
      ]
     },
     "metadata": {},
     "output_type": "display_data"
    },
    {
     "data": {
      "application/vnd.jupyter.widget-view+json": {
       "model_id": "723d459a30da446d9651cc4fef9066e7",
       "version_major": 2,
       "version_minor": 0
      },
      "text/plain": [
       "HBox(children=(VBox(children=(Label(value='alena-aenami-revenant3-2'), Image(value=b'\\xff\\xd8\\xff\\xe0\\x00\\x10J…"
      ]
     },
     "metadata": {},
     "output_type": "display_data"
    },
    {
     "data": {
      "application/vnd.jupyter.widget-view+json": {
       "model_id": "d96afe54bec044b6ad07387797068ed0",
       "version_major": 2,
       "version_minor": 0
      },
      "text/plain": [
       "HBox(children=(VBox(children=(Label(value='alena-aenami-serenity-1k'), Image(value=b'\\xff\\xd8\\xff\\xe0\\x00\\x10J…"
      ]
     },
     "metadata": {},
     "output_type": "display_data"
    },
    {
     "data": {
      "application/vnd.jupyter.widget-view+json": {
       "model_id": "ba835652178240f6b07dcb3b10f402fa",
       "version_major": 2,
       "version_minor": 0
      },
      "text/plain": [
       "HBox(children=(VBox(children=(Label(value='alena-aenami-skylight1920'), Image(value=b'\\xff\\xd8\\xff\\xe0\\x00\\x10…"
      ]
     },
     "metadata": {},
     "output_type": "display_data"
    }
   ],
   "source": [
    "# Display the next round.\n",
    "# Should start with all the contestants and pare down by a factor of ~2 on each run of this cell\n",
    "# Note: Will not force you to select a winner for any particular round.\n",
    "\n",
    "winners.append(round_winners[:])\n",
    "\n",
    "if len(round_winners) == 1:\n",
    "    print(\"%s was the winner of the bracket!\" % round_winners[0])\n",
    "    contestants = []\n",
    "else:\n",
    "    contestants = round_winners\n",
    "\n",
    "round_winners = []\n",
    "polls = []\n",
    "\n",
    "i = 0\n",
    "while i + 1 < len(contestants):\n",
    "    poll = create_poll_widget(create_image_widget(contestants[i]), contestants[i],\n",
    "                              create_image_widget(contestants[i+1]), contestants[i+1])\n",
    "    polls.append(poll)\n",
    "    display(poll)\n",
    "    i += 2\n",
    "if i < len(contestants):\n",
    "    round_winners.append(contestants[-1])"
   ]
  },
  {
   "cell_type": "code",
   "execution_count": null,
   "metadata": {},
   "outputs": [],
   "source": []
  },
  {
   "cell_type": "code",
   "execution_count": null,
   "metadata": {},
   "outputs": [],
   "source": []
  },
  {
   "cell_type": "code",
   "execution_count": null,
   "metadata": {},
   "outputs": [],
   "source": []
  },
  {
   "cell_type": "code",
   "execution_count": null,
   "metadata": {},
   "outputs": [],
   "source": []
  }
 ],
 "metadata": {
  "kernelspec": {
   "display_name": "Python 2",
   "language": "python",
   "name": "python2"
  },
  "language_info": {
   "codemirror_mode": {
    "name": "ipython",
    "version": 3
   },
   "file_extension": ".py",
   "mimetype": "text/x-python",
   "name": "python",
   "nbconvert_exporter": "python",
   "pygments_lexer": "ipython3",
   "version": "3.7.4"
  }
 },
 "nbformat": 4,
 "nbformat_minor": 4
}
